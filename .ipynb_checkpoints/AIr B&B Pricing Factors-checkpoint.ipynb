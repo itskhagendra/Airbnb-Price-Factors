{
 "cells": [
  {
   "cell_type": "code",
   "execution_count": 21,
   "metadata": {},
   "outputs": [],
   "source": [
    "import numpy as np\n",
    "import pandas as pd\n",
    "import matplotlib as plt\n",
    "from sklearn.metrics import r2_score\n",
    "from sklearn.ensemble import RandomForestRegressor\n",
    "from sklearn.model_selection import train_test_split"
   ]
  },
  {
   "cell_type": "code",
   "execution_count": 22,
   "metadata": {},
   "outputs": [],
   "source": [
    "path = \"./seattle/\"\n",
    "df = pd.read_csv(path+\"listings.csv\")\n",
    "calender = pd.read_csv(path+\"calendar.csv\")\n",
    "review = pd.read_csv(path+\"reviews.csv\")"
   ]
  },
  {
   "cell_type": "code",
   "execution_count": 27,
   "metadata": {},
   "outputs": [
    {
     "name": "stdout",
     "output_type": "stream",
     "text": [
      "<class 'pandas.core.frame.DataFrame'>\n",
      "RangeIndex: 3818 entries, 0 to 3817\n",
      "Data columns (total 92 columns):\n",
      "id                                  3818 non-null int64\n",
      "listing_url                         3818 non-null object\n",
      "scrape_id                           3818 non-null int64\n",
      "last_scraped                        3818 non-null object\n",
      "name                                3818 non-null object\n",
      "summary                             3641 non-null object\n",
      "space                               3249 non-null object\n",
      "description                         3818 non-null object\n",
      "experiences_offered                 3818 non-null object\n",
      "neighborhood_overview               2786 non-null object\n",
      "notes                               2212 non-null object\n",
      "transit                             2884 non-null object\n",
      "thumbnail_url                       3498 non-null object\n",
      "medium_url                          3498 non-null object\n",
      "picture_url                         3818 non-null object\n",
      "xl_picture_url                      3498 non-null object\n",
      "host_id                             3818 non-null int64\n",
      "host_url                            3818 non-null object\n",
      "host_name                           3816 non-null object\n",
      "host_since                          3816 non-null object\n",
      "host_location                       3810 non-null object\n",
      "host_about                          2959 non-null object\n",
      "host_response_time                  3295 non-null object\n",
      "host_response_rate                  3295 non-null object\n",
      "host_acceptance_rate                3045 non-null object\n",
      "host_is_superhost                   3816 non-null object\n",
      "host_thumbnail_url                  3816 non-null object\n",
      "host_picture_url                    3816 non-null object\n",
      "host_neighbourhood                  3518 non-null object\n",
      "host_listings_count                 3816 non-null float64\n",
      "host_total_listings_count           3816 non-null float64\n",
      "host_verifications                  3818 non-null object\n",
      "host_has_profile_pic                3816 non-null object\n",
      "host_identity_verified              3816 non-null object\n",
      "street                              3818 non-null object\n",
      "neighbourhood                       3402 non-null object\n",
      "neighbourhood_cleansed              3818 non-null object\n",
      "neighbourhood_group_cleansed        3818 non-null object\n",
      "city                                3818 non-null object\n",
      "state                               3818 non-null object\n",
      "zipcode                             3811 non-null object\n",
      "market                              3818 non-null object\n",
      "smart_location                      3818 non-null object\n",
      "country_code                        3818 non-null object\n",
      "country                             3818 non-null object\n",
      "latitude                            3818 non-null float64\n",
      "longitude                           3818 non-null float64\n",
      "is_location_exact                   3818 non-null object\n",
      "property_type                       3817 non-null object\n",
      "room_type                           3818 non-null object\n",
      "accommodates                        3818 non-null int64\n",
      "bathrooms                           3802 non-null float64\n",
      "bedrooms                            3812 non-null float64\n",
      "beds                                3817 non-null float64\n",
      "bed_type                            3818 non-null object\n",
      "amenities                           3818 non-null object\n",
      "square_feet                         97 non-null float64\n",
      "price                               3818 non-null object\n",
      "weekly_price                        2009 non-null object\n",
      "monthly_price                       1517 non-null object\n",
      "security_deposit                    1866 non-null object\n",
      "cleaning_fee                        2788 non-null object\n",
      "guests_included                     3818 non-null int64\n",
      "extra_people                        3818 non-null object\n",
      "minimum_nights                      3818 non-null int64\n",
      "maximum_nights                      3818 non-null int64\n",
      "calendar_updated                    3818 non-null object\n",
      "has_availability                    3818 non-null object\n",
      "availability_30                     3818 non-null int64\n",
      "availability_60                     3818 non-null int64\n",
      "availability_90                     3818 non-null int64\n",
      "availability_365                    3818 non-null int64\n",
      "calendar_last_scraped               3818 non-null object\n",
      "number_of_reviews                   3818 non-null int64\n",
      "first_review                        3191 non-null object\n",
      "last_review                         3191 non-null object\n",
      "review_scores_rating                3171 non-null float64\n",
      "review_scores_accuracy              3160 non-null float64\n",
      "review_scores_cleanliness           3165 non-null float64\n",
      "review_scores_checkin               3160 non-null float64\n",
      "review_scores_communication         3167 non-null float64\n",
      "review_scores_location              3163 non-null float64\n",
      "review_scores_value                 3162 non-null float64\n",
      "requires_license                    3818 non-null object\n",
      "license                             0 non-null float64\n",
      "jurisdiction_names                  3818 non-null object\n",
      "instant_bookable                    3818 non-null object\n",
      "cancellation_policy                 3818 non-null object\n",
      "require_guest_profile_picture       3818 non-null object\n",
      "require_guest_phone_verification    3818 non-null object\n",
      "calculated_host_listings_count      3818 non-null int64\n",
      "reviews_per_month                   3191 non-null float64\n",
      "dtypes: float64(17), int64(13), object(62)\n",
      "memory usage: 2.7+ MB\n"
     ]
    }
   ],
   "source": [
    "df.info()"
   ]
  },
  {
   "cell_type": "code",
   "execution_count": 24,
   "metadata": {},
   "outputs": [
    {
     "data": {
      "text/html": [
       "<div>\n",
       "<style scoped>\n",
       "    .dataframe tbody tr th:only-of-type {\n",
       "        vertical-align: middle;\n",
       "    }\n",
       "\n",
       "    .dataframe tbody tr th {\n",
       "        vertical-align: top;\n",
       "    }\n",
       "\n",
       "    .dataframe thead th {\n",
       "        text-align: right;\n",
       "    }\n",
       "</style>\n",
       "<table border=\"1\" class=\"dataframe\">\n",
       "  <thead>\n",
       "    <tr style=\"text-align: right;\">\n",
       "      <th></th>\n",
       "      <th>listing_id</th>\n",
       "      <th>date</th>\n",
       "      <th>available</th>\n",
       "      <th>price</th>\n",
       "    </tr>\n",
       "  </thead>\n",
       "  <tbody>\n",
       "    <tr>\n",
       "      <th>0</th>\n",
       "      <td>241032</td>\n",
       "      <td>2016-01-04</td>\n",
       "      <td>t</td>\n",
       "      <td>$85.00</td>\n",
       "    </tr>\n",
       "    <tr>\n",
       "      <th>1</th>\n",
       "      <td>241032</td>\n",
       "      <td>2016-01-05</td>\n",
       "      <td>t</td>\n",
       "      <td>$85.00</td>\n",
       "    </tr>\n",
       "    <tr>\n",
       "      <th>2</th>\n",
       "      <td>241032</td>\n",
       "      <td>2016-01-06</td>\n",
       "      <td>f</td>\n",
       "      <td>NaN</td>\n",
       "    </tr>\n",
       "    <tr>\n",
       "      <th>3</th>\n",
       "      <td>241032</td>\n",
       "      <td>2016-01-07</td>\n",
       "      <td>f</td>\n",
       "      <td>NaN</td>\n",
       "    </tr>\n",
       "    <tr>\n",
       "      <th>4</th>\n",
       "      <td>241032</td>\n",
       "      <td>2016-01-08</td>\n",
       "      <td>f</td>\n",
       "      <td>NaN</td>\n",
       "    </tr>\n",
       "  </tbody>\n",
       "</table>\n",
       "</div>"
      ],
      "text/plain": [
       "   listing_id        date available   price\n",
       "0      241032  2016-01-04         t  $85.00\n",
       "1      241032  2016-01-05         t  $85.00\n",
       "2      241032  2016-01-06         f     NaN\n",
       "3      241032  2016-01-07         f     NaN\n",
       "4      241032  2016-01-08         f     NaN"
      ]
     },
     "execution_count": 24,
     "metadata": {},
     "output_type": "execute_result"
    }
   ],
   "source": [
    "calender.head()"
   ]
  },
  {
   "cell_type": "code",
   "execution_count": 29,
   "metadata": {},
   "outputs": [],
   "source": [
    "def convertDate(dataFrame, col):\n",
    "    \n",
    "    suffix = ['y','m','d']\n",
    "    date = pd.to_datetime(dataframe[col])\n",
    "    dataframe['days'] = date.dt.dayofWeek\n",
    "    dataframe['week'] = data.dt.week\n",
    "    split_df = dataframe[col].str.split('-',expand=True).rename(columns ={idx:'%s_%s' % (col, suffix) for idx, suffix in enumrate(suffixes)}).applymap(float)\n",
    "    dataframe = dataframe.conact((dataframe.drop([col],axis=1),split_df),axis=1)\n",
    "    \n",
    "    return dataframe"
   ]
  },
  {
   "cell_type": "code",
   "execution_count": 30,
   "metadata": {},
   "outputs": [],
   "source": [
    "def cleanPrice(dataframe,col):\n",
    "    \n",
    "    removeCurrency = lambda x:float(x.lstrip('$').replace(\",\",\"\"))\n",
    "    dataframe[col] = dataframe.col.apply(removeCurrency)\n",
    "    \n",
    "    return dataframe"
   ]
  },
  {
   "cell_type": "code",
   "execution_count": 38,
   "metadata": {},
   "outputs": [],
   "source": [
    "def convertLower(dataframe):\n",
    "    dataframe = dataframe.applymap(lambda x: str.lower(x) if isinstance(x,str) else x)\n",
    "    return dataframe"
   ]
  },
  {
   "cell_type": "code",
   "execution_count": 42,
   "metadata": {},
   "outputs": [
    {
     "ename": "UnboundLocalError",
     "evalue": "local variable 'dataframe' referenced before assignment",
     "output_type": "error",
     "traceback": [
      "\u001b[1;31m---------------------------------------------------------------------------\u001b[0m",
      "\u001b[1;31mUnboundLocalError\u001b[0m                         Traceback (most recent call last)",
      "\u001b[1;32m<ipython-input-42-aac03ce880a8>\u001b[0m in \u001b[0;36m<module>\u001b[1;34m\u001b[0m\n\u001b[0;32m      2\u001b[0m \u001b[0mcalender\u001b[0m \u001b[1;33m=\u001b[0m \u001b[0mconvertLower\u001b[0m\u001b[1;33m(\u001b[0m\u001b[0mcalender\u001b[0m\u001b[1;33m)\u001b[0m\u001b[1;33m\u001b[0m\u001b[1;33m\u001b[0m\u001b[0m\n\u001b[0;32m      3\u001b[0m \u001b[1;33m\u001b[0m\u001b[0m\n\u001b[1;32m----> 4\u001b[1;33m \u001b[0mcalender\u001b[0m \u001b[1;33m=\u001b[0m \u001b[0mconvertDate\u001b[0m\u001b[1;33m(\u001b[0m\u001b[0mcalender\u001b[0m \u001b[1;33m,\u001b[0m \u001b[1;34m'date'\u001b[0m\u001b[1;33m)\u001b[0m\u001b[1;33m\u001b[0m\u001b[1;33m\u001b[0m\u001b[0m\n\u001b[0m\u001b[0;32m      5\u001b[0m \u001b[0mcalender\u001b[0m\u001b[1;33m.\u001b[0m\u001b[0mhead\u001b[0m\u001b[1;33m(\u001b[0m\u001b[1;33m)\u001b[0m\u001b[1;33m\u001b[0m\u001b[1;33m\u001b[0m\u001b[0m\n",
      "\u001b[1;32m<ipython-input-29-f8913f19319a>\u001b[0m in \u001b[0;36mconvertDate\u001b[1;34m(dataFrame, col)\u001b[0m\n\u001b[0;32m      2\u001b[0m \u001b[1;33m\u001b[0m\u001b[0m\n\u001b[0;32m      3\u001b[0m     \u001b[0msuffix\u001b[0m \u001b[1;33m=\u001b[0m \u001b[1;33m[\u001b[0m\u001b[1;34m'y'\u001b[0m\u001b[1;33m,\u001b[0m\u001b[1;34m'm'\u001b[0m\u001b[1;33m,\u001b[0m\u001b[1;34m'd'\u001b[0m\u001b[1;33m]\u001b[0m\u001b[1;33m\u001b[0m\u001b[1;33m\u001b[0m\u001b[0m\n\u001b[1;32m----> 4\u001b[1;33m     \u001b[0mdate\u001b[0m \u001b[1;33m=\u001b[0m \u001b[0mpd\u001b[0m\u001b[1;33m.\u001b[0m\u001b[0mto_datetime\u001b[0m\u001b[1;33m(\u001b[0m\u001b[0mdataframe\u001b[0m\u001b[1;33m.\u001b[0m\u001b[0mcol\u001b[0m\u001b[1;33m)\u001b[0m\u001b[1;33m\u001b[0m\u001b[1;33m\u001b[0m\u001b[0m\n\u001b[0m\u001b[0;32m      5\u001b[0m     \u001b[0mdataframe\u001b[0m\u001b[1;33m[\u001b[0m\u001b[1;34m'days'\u001b[0m\u001b[1;33m]\u001b[0m \u001b[1;33m=\u001b[0m \u001b[0mdate\u001b[0m\u001b[1;33m.\u001b[0m\u001b[0mdt\u001b[0m\u001b[1;33m.\u001b[0m\u001b[0mdayofWeek\u001b[0m\u001b[1;33m\u001b[0m\u001b[1;33m\u001b[0m\u001b[0m\n\u001b[0;32m      6\u001b[0m     \u001b[0mdataframe\u001b[0m\u001b[1;33m[\u001b[0m\u001b[1;34m'week'\u001b[0m\u001b[1;33m]\u001b[0m \u001b[1;33m=\u001b[0m \u001b[0mdata\u001b[0m\u001b[1;33m.\u001b[0m\u001b[0mdt\u001b[0m\u001b[1;33m.\u001b[0m\u001b[0mweek\u001b[0m\u001b[1;33m\u001b[0m\u001b[1;33m\u001b[0m\u001b[0m\n",
      "\u001b[1;31mUnboundLocalError\u001b[0m: local variable 'dataframe' referenced before assignment"
     ]
    }
   ],
   "source": [
    "calender.dropna(inplace = True)\n",
    "calender = convertLower(calender)\n",
    "\n",
    "calender = convertDate(calender , 'date')\n",
    "calender.head()"
   ]
  },
  {
   "cell_type": "code",
   "execution_count": null,
   "metadata": {},
   "outputs": [],
   "source": []
  }
 ],
 "metadata": {
  "kernelspec": {
   "display_name": "Python 3",
   "language": "python",
   "name": "python3"
  },
  "language_info": {
   "codemirror_mode": {
    "name": "ipython",
    "version": 3
   },
   "file_extension": ".py",
   "mimetype": "text/x-python",
   "name": "python",
   "nbconvert_exporter": "python",
   "pygments_lexer": "ipython3",
   "version": "3.7.3"
  }
 },
 "nbformat": 4,
 "nbformat_minor": 2
}
